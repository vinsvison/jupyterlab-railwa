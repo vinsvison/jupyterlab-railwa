  {
 "cells": [
  {
   "cell_type": "code",
   "execution_count": null,
   "id": "715d73a0-7cdb-4b46-a1b1-682cda350b05",
   "metadata": {},
   "outputs": [],
   "source": [
    "!gh repo list ${github_username}"
   ]
  },
  {
   "cell_type": "code",
   "execution_count": null,
   "id": "6398f889-9f6f-4873-8441-077caf94816d",
   "metadata": {},
   "outputs": [],
   "source": [
    "!git clone https://github.com/${github_username}/${github_project_name}.git"
   ]
  }
 ],
 "metadata": {
  "kernelspec": {
   "display_name": "Python 3 (ipykernel)",
   "language": "python",
   "name": "python3"
  },
  "language_info": {
   "codemirror_mode": {
    "name": "ipython",
    "version": 3
   },
   "file_extension": ".py",
   "mimetype": "text/x-python",
   "name": "python",
   "nbconvert_exporter": "python",
   "pygments_lexer": "ipython3",
   "version": "3.8.14"
  }
 },
 "nbformat": 4,
 "nbformat_minor": 5
}
